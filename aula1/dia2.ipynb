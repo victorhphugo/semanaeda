{
 "cells": [
  {
   "cell_type": "markdown",
   "metadata": {},
   "source": [
    "# BOXPLOT e ESTATÍSCTICA"
   ]
  },
  {
   "cell_type": "markdown",
   "metadata": {},
   "source": [
    "- pd.describe()\n",
    "\n",
    "    "
   ]
  },
  {
   "cell_type": "markdown",
   "metadata": {},
   "source": [
    "# Variaveis \n",
    "\n",
    "    - QUALITATIVAS \n",
    "        - Ordinais \n",
    "            - que da pra seguir uma ordem , como :1° , 2° ,3°...\n",
    "            - outro exemplo : 1° ens. fundamental, 2°ensino medio , 3°ensino superior.\n",
    "\n",
    "        -NOMINAL\n",
    "            -que segue por classificações diversas , exemplo : idiomas , sexo , Profissão.\n",
    "\n",
    "\n",
    "\n",
    "    - QUANTITATIVAS\n",
    "\n",
    "        - Continuas \n",
    "        - Discretas\n",
    "\n",
    "            \n",
    "             "
   ]
  },
  {
   "cell_type": "markdown",
   "metadata": {},
   "source": [
    "# Storytelling em BOXPLOT"
   ]
  },
  {
   "cell_type": "markdown",
   "metadata": {},
   "source": [
    "###  - Ultilize para criar graficos com storytelling\n",
    "### - Leve em conta o publico alvo \n",
    "### - Uma opção é aplicar tecnicas de contraste\n"
   ]
  },
  {
   "cell_type": "markdown",
   "metadata": {},
   "source": [
    "# ESTATISTICA DESCRITIVA\n"
   ]
  },
  {
   "cell_type": "code",
   "execution_count": 118,
   "metadata": {},
   "outputs": [],
   "source": [
    "import pandas as pd\n",
    "\n",
    "\n"
   ]
  },
  {
   "cell_type": "code",
   "execution_count": 119,
   "metadata": {},
   "outputs": [],
   "source": [
    "df_filmes = pd.read_csv('dataset/ratings.csv')\n"
   ]
  },
  {
   "cell_type": "code",
   "execution_count": 120,
   "metadata": {},
   "outputs": [],
   "source": [
    "df_filmes.columns = ['usuario_id','filme_id','avaliacao','quando']"
   ]
  },
  {
   "cell_type": "code",
   "execution_count": 121,
   "metadata": {},
   "outputs": [
    {
     "data": {
      "text/html": [
       "<div>\n",
       "<style scoped>\n",
       "    .dataframe tbody tr th:only-of-type {\n",
       "        vertical-align: middle;\n",
       "    }\n",
       "\n",
       "    .dataframe tbody tr th {\n",
       "        vertical-align: top;\n",
       "    }\n",
       "\n",
       "    .dataframe thead th {\n",
       "        text-align: right;\n",
       "    }\n",
       "</style>\n",
       "<table border=\"1\" class=\"dataframe\">\n",
       "  <thead>\n",
       "    <tr style=\"text-align: right;\">\n",
       "      <th></th>\n",
       "      <th>usuario_id</th>\n",
       "      <th>filme_id</th>\n",
       "      <th>avaliacao</th>\n",
       "      <th>quando</th>\n",
       "    </tr>\n",
       "  </thead>\n",
       "  <tbody>\n",
       "    <tr>\n",
       "      <th>0</th>\n",
       "      <td>1</td>\n",
       "      <td>1</td>\n",
       "      <td>4.0</td>\n",
       "      <td>964982703</td>\n",
       "    </tr>\n",
       "    <tr>\n",
       "      <th>1</th>\n",
       "      <td>1</td>\n",
       "      <td>3</td>\n",
       "      <td>4.0</td>\n",
       "      <td>964981247</td>\n",
       "    </tr>\n",
       "    <tr>\n",
       "      <th>2</th>\n",
       "      <td>1</td>\n",
       "      <td>6</td>\n",
       "      <td>4.0</td>\n",
       "      <td>964982224</td>\n",
       "    </tr>\n",
       "    <tr>\n",
       "      <th>3</th>\n",
       "      <td>1</td>\n",
       "      <td>47</td>\n",
       "      <td>5.0</td>\n",
       "      <td>964983815</td>\n",
       "    </tr>\n",
       "    <tr>\n",
       "      <th>4</th>\n",
       "      <td>1</td>\n",
       "      <td>50</td>\n",
       "      <td>5.0</td>\n",
       "      <td>964982931</td>\n",
       "    </tr>\n",
       "    <tr>\n",
       "      <th>...</th>\n",
       "      <td>...</td>\n",
       "      <td>...</td>\n",
       "      <td>...</td>\n",
       "      <td>...</td>\n",
       "    </tr>\n",
       "    <tr>\n",
       "      <th>100831</th>\n",
       "      <td>610</td>\n",
       "      <td>166534</td>\n",
       "      <td>4.0</td>\n",
       "      <td>1493848402</td>\n",
       "    </tr>\n",
       "    <tr>\n",
       "      <th>100832</th>\n",
       "      <td>610</td>\n",
       "      <td>168248</td>\n",
       "      <td>5.0</td>\n",
       "      <td>1493850091</td>\n",
       "    </tr>\n",
       "    <tr>\n",
       "      <th>100833</th>\n",
       "      <td>610</td>\n",
       "      <td>168250</td>\n",
       "      <td>5.0</td>\n",
       "      <td>1494273047</td>\n",
       "    </tr>\n",
       "    <tr>\n",
       "      <th>100834</th>\n",
       "      <td>610</td>\n",
       "      <td>168252</td>\n",
       "      <td>5.0</td>\n",
       "      <td>1493846352</td>\n",
       "    </tr>\n",
       "    <tr>\n",
       "      <th>100835</th>\n",
       "      <td>610</td>\n",
       "      <td>170875</td>\n",
       "      <td>3.0</td>\n",
       "      <td>1493846415</td>\n",
       "    </tr>\n",
       "  </tbody>\n",
       "</table>\n",
       "<p>100836 rows × 4 columns</p>\n",
       "</div>"
      ],
      "text/plain": [
       "        usuario_id  filme_id  avaliacao      quando\n",
       "0                1         1        4.0   964982703\n",
       "1                1         3        4.0   964981247\n",
       "2                1         6        4.0   964982224\n",
       "3                1        47        5.0   964983815\n",
       "4                1        50        5.0   964982931\n",
       "...            ...       ...        ...         ...\n",
       "100831         610    166534        4.0  1493848402\n",
       "100832         610    168248        5.0  1493850091\n",
       "100833         610    168250        5.0  1494273047\n",
       "100834         610    168252        5.0  1493846352\n",
       "100835         610    170875        3.0  1493846415\n",
       "\n",
       "[100836 rows x 4 columns]"
      ]
     },
     "execution_count": 121,
     "metadata": {},
     "output_type": "execute_result"
    }
   ],
   "source": [
    "df_filmes"
   ]
  },
  {
   "cell_type": "code",
   "execution_count": 122,
   "metadata": {},
   "outputs": [
    {
     "name": "stdout",
     "output_type": "stream",
     "text": [
      "a media da avaliação é:3.501557\n"
     ]
    }
   ],
   "source": [
    "#calculo de media\n",
    "\n",
    "print(f\"a media da avaliação é:{df_filmes.avaliacao.mean():2f}\")"
   ]
  },
  {
   "cell_type": "code",
   "execution_count": 123,
   "metadata": {},
   "outputs": [
    {
     "name": "stdout",
     "output_type": "stream",
     "text": [
      "a mediana da avaliação é:3.500000\n"
     ]
    }
   ],
   "source": [
    "# calculando mediana\n",
    "\n",
    "print(f\"a mediana da avaliação é:{df_filmes.avaliacao.median():2f}\")"
   ]
  },
  {
   "cell_type": "code",
   "execution_count": 124,
   "metadata": {},
   "outputs": [
    {
     "name": "stdout",
     "output_type": "stream",
     "text": [
      "a soma da avaliação é:353083.000000\n"
     ]
    }
   ],
   "source": [
    "# calculando a soma \n",
    "\n",
    "print(f\"a soma da avaliação é:{df_filmes.avaliacao.sum():2f}\")"
   ]
  },
  {
   "cell_type": "code",
   "execution_count": 125,
   "metadata": {},
   "outputs": [
    {
     "data": {
      "text/plain": [
       "count    100836.000000\n",
       "mean          3.501557\n",
       "std           1.042529\n",
       "min           0.500000\n",
       "25%           3.000000\n",
       "50%           3.500000\n",
       "75%           4.000000\n",
       "max           5.000000\n",
       "Name: avaliacao, dtype: float64"
      ]
     },
     "execution_count": 125,
     "metadata": {},
     "output_type": "execute_result"
    }
   ],
   "source": [
    "df_filmes.avaliacao.describe()"
   ]
  },
  {
   "cell_type": "markdown",
   "metadata": {},
   "source": [
    "## - Apresenta o primeiro quartil , 2° ,3° . "
   ]
  },
  {
   "cell_type": "markdown",
   "metadata": {},
   "source": [
    "# Importando o Seaborn "
   ]
  },
  {
   "cell_type": "code",
   "execution_count": 126,
   "metadata": {},
   "outputs": [],
   "source": [
    "import seaborn as sns"
   ]
  },
  {
   "cell_type": "markdown",
   "metadata": {},
   "source": [
    "# criando variavel para guardar as avaliações\n"
   ]
  },
  {
   "cell_type": "code",
   "execution_count": 127,
   "metadata": {},
   "outputs": [],
   "source": [
    "notas = df_filmes.avaliacao"
   ]
  },
  {
   "cell_type": "code",
   "execution_count": 128,
   "metadata": {},
   "outputs": [
    {
     "data": {
      "text/plain": [
       "0    4.0\n",
       "1    4.0\n",
       "2    4.0\n",
       "3    5.0\n",
       "4    5.0\n",
       "Name: avaliacao, dtype: float64"
      ]
     },
     "execution_count": 128,
     "metadata": {},
     "output_type": "execute_result"
    }
   ],
   "source": [
    "# mostrando cabeçalho\n",
    "\n",
    "notas.head()"
   ]
  },
  {
   "cell_type": "code",
   "execution_count": 129,
   "metadata": {},
   "outputs": [
    {
     "data": {
      "text/plain": [
       "<Axes: ylabel='avaliacao'>"
      ]
     },
     "execution_count": 129,
     "metadata": {},
     "output_type": "execute_result"
    },
    {
     "data": {
      "image/png": "[encoded data removed]",
      "text/plain": [
       "<Figure size 640x480 with 1 Axes>"
      ]
     },
     "metadata": {},
     "output_type": "display_data"
    }
   ],
   "source": [
    "sns.boxplot(notas) "
   ]
  },
  {
   "cell_type": "code",
   "execution_count": 130,
   "metadata": {},
   "outputs": [
    {
     "data": {
      "text/plain": [
       "<Axes: xlabel='avaliacao'>"
      ]
     },
     "execution_count": 130,
     "metadata": {},
     "output_type": "execute_result"
    },
    {
     "data": {
      "image/png": "[encoded data removed]",
      "text/plain": [
       "<Figure size 640x480 with 1 Axes>"
      ]
     },
     "metadata": {},
     "output_type": "display_data"
    }
   ],
   "source": [
    "sns.boxplot(x=notas)"
   ]
  },
  {
   "cell_type": "markdown",
   "metadata": {},
   "source": [
    "# coclusão"
   ]
  },
  {
   "cell_type": "markdown",
   "metadata": {},
   "source": [
    "- Grafico Boxplot ou caixa\n",
    "- "
   ]
  },
  {
   "cell_type": "markdown",
   "metadata": {},
   "source": [
    "# Data set movies.csv"
   ]
  },
  {
   "cell_type": "code",
   "execution_count": 131,
   "metadata": {},
   "outputs": [
    {
     "data": {
      "text/html": [
       "<div>\n",
       "<style scoped>\n",
       "    .dataframe tbody tr th:only-of-type {\n",
       "        vertical-align: middle;\n",
       "    }\n",
       "\n",
       "    .dataframe tbody tr th {\n",
       "        vertical-align: top;\n",
       "    }\n",
       "\n",
       "    .dataframe thead th {\n",
       "        text-align: right;\n",
       "    }\n",
       "</style>\n",
       "<table border=\"1\" class=\"dataframe\">\n",
       "  <thead>\n",
       "    <tr style=\"text-align: right;\">\n",
       "      <th></th>\n",
       "      <th>movieId</th>\n",
       "      <th>title</th>\n",
       "      <th>genres</th>\n",
       "    </tr>\n",
       "  </thead>\n",
       "  <tbody>\n",
       "    <tr>\n",
       "      <th>0</th>\n",
       "      <td>1</td>\n",
       "      <td>Toy Story (1995)</td>\n",
       "      <td>Adventure|Animation|Children|Comedy|Fantasy</td>\n",
       "    </tr>\n",
       "    <tr>\n",
       "      <th>1</th>\n",
       "      <td>2</td>\n",
       "      <td>Jumanji (1995)</td>\n",
       "      <td>Adventure|Children|Fantasy</td>\n",
       "    </tr>\n",
       "    <tr>\n",
       "      <th>2</th>\n",
       "      <td>3</td>\n",
       "      <td>Grumpier Old Men (1995)</td>\n",
       "      <td>Comedy|Romance</td>\n",
       "    </tr>\n",
       "    <tr>\n",
       "      <th>3</th>\n",
       "      <td>4</td>\n",
       "      <td>Waiting to Exhale (1995)</td>\n",
       "      <td>Comedy|Drama|Romance</td>\n",
       "    </tr>\n",
       "    <tr>\n",
       "      <th>4</th>\n",
       "      <td>5</td>\n",
       "      <td>Father of the Bride Part II (1995)</td>\n",
       "      <td>Comedy</td>\n",
       "    </tr>\n",
       "    <tr>\n",
       "      <th>...</th>\n",
       "      <td>...</td>\n",
       "      <td>...</td>\n",
       "      <td>...</td>\n",
       "    </tr>\n",
       "    <tr>\n",
       "      <th>9737</th>\n",
       "      <td>193581</td>\n",
       "      <td>Black Butler: Book of the Atlantic (2017)</td>\n",
       "      <td>Action|Animation|Comedy|Fantasy</td>\n",
       "    </tr>\n",
       "    <tr>\n",
       "      <th>9738</th>\n",
       "      <td>193583</td>\n",
       "      <td>No Game No Life: Zero (2017)</td>\n",
       "      <td>Animation|Comedy|Fantasy</td>\n",
       "    </tr>\n",
       "    <tr>\n",
       "      <th>9739</th>\n",
       "      <td>193585</td>\n",
       "      <td>Flint (2017)</td>\n",
       "      <td>Drama</td>\n",
       "    </tr>\n",
       "    <tr>\n",
       "      <th>9740</th>\n",
       "      <td>193587</td>\n",
       "      <td>Bungo Stray Dogs: Dead Apple (2018)</td>\n",
       "      <td>Action|Animation</td>\n",
       "    </tr>\n",
       "    <tr>\n",
       "      <th>9741</th>\n",
       "      <td>193609</td>\n",
       "      <td>Andrew Dice Clay: Dice Rules (1991)</td>\n",
       "      <td>Comedy</td>\n",
       "    </tr>\n",
       "  </tbody>\n",
       "</table>\n",
       "<p>9742 rows × 3 columns</p>\n",
       "</div>"
      ],
      "text/plain": [
       "      movieId                                      title  \\\n",
       "0           1                           Toy Story (1995)   \n",
       "1           2                             Jumanji (1995)   \n",
       "2           3                    Grumpier Old Men (1995)   \n",
       "3           4                   Waiting to Exhale (1995)   \n",
       "4           5         Father of the Bride Part II (1995)   \n",
       "...       ...                                        ...   \n",
       "9737   193581  Black Butler: Book of the Atlantic (2017)   \n",
       "9738   193583               No Game No Life: Zero (2017)   \n",
       "9739   193585                               Flint (2017)   \n",
       "9740   193587        Bungo Stray Dogs: Dead Apple (2018)   \n",
       "9741   193609        Andrew Dice Clay: Dice Rules (1991)   \n",
       "\n",
       "                                           genres  \n",
       "0     Adventure|Animation|Children|Comedy|Fantasy  \n",
       "1                      Adventure|Children|Fantasy  \n",
       "2                                  Comedy|Romance  \n",
       "3                            Comedy|Drama|Romance  \n",
       "4                                          Comedy  \n",
       "...                                           ...  \n",
       "9737              Action|Animation|Comedy|Fantasy  \n",
       "9738                     Animation|Comedy|Fantasy  \n",
       "9739                                        Drama  \n",
       "9740                             Action|Animation  \n",
       "9741                                       Comedy  \n",
       "\n",
       "[9742 rows x 3 columns]"
      ]
     },
     "execution_count": 131,
     "metadata": {},
     "output_type": "execute_result"
    }
   ],
   "source": [
    "\n",
    "df_filmes_todos = pd.read_csv(\"dataset/movies.csv\")\n",
    "df_filmes_todos"
   ]
  },
  {
   "cell_type": "code",
   "execution_count": 132,
   "metadata": {},
   "outputs": [
    {
     "data": {
      "text/html": [
       "<div>\n",
       "<style scoped>\n",
       "    .dataframe tbody tr th:only-of-type {\n",
       "        vertical-align: middle;\n",
       "    }\n",
       "\n",
       "    .dataframe tbody tr th {\n",
       "        vertical-align: top;\n",
       "    }\n",
       "\n",
       "    .dataframe thead th {\n",
       "        text-align: right;\n",
       "    }\n",
       "</style>\n",
       "<table border=\"1\" class=\"dataframe\">\n",
       "  <thead>\n",
       "    <tr style=\"text-align: right;\">\n",
       "      <th></th>\n",
       "      <th>movieId</th>\n",
       "      <th>title</th>\n",
       "      <th>genres</th>\n",
       "    </tr>\n",
       "  </thead>\n",
       "  <tbody>\n",
       "    <tr>\n",
       "      <th>0</th>\n",
       "      <td>1</td>\n",
       "      <td>Toy Story (1995)</td>\n",
       "      <td>Adventure|Animation|Children|Comedy|Fantasy</td>\n",
       "    </tr>\n",
       "    <tr>\n",
       "      <th>1</th>\n",
       "      <td>2</td>\n",
       "      <td>Jumanji (1995)</td>\n",
       "      <td>Adventure|Children|Fantasy</td>\n",
       "    </tr>\n",
       "    <tr>\n",
       "      <th>2</th>\n",
       "      <td>3</td>\n",
       "      <td>Grumpier Old Men (1995)</td>\n",
       "      <td>Comedy|Romance</td>\n",
       "    </tr>\n",
       "    <tr>\n",
       "      <th>3</th>\n",
       "      <td>4</td>\n",
       "      <td>Waiting to Exhale (1995)</td>\n",
       "      <td>Comedy|Drama|Romance</td>\n",
       "    </tr>\n",
       "    <tr>\n",
       "      <th>4</th>\n",
       "      <td>5</td>\n",
       "      <td>Father of the Bride Part II (1995)</td>\n",
       "      <td>Comedy</td>\n",
       "    </tr>\n",
       "    <tr>\n",
       "      <th>5</th>\n",
       "      <td>6</td>\n",
       "      <td>Heat (1995)</td>\n",
       "      <td>Action|Crime|Thriller</td>\n",
       "    </tr>\n",
       "    <tr>\n",
       "      <th>6</th>\n",
       "      <td>7</td>\n",
       "      <td>Sabrina (1995)</td>\n",
       "      <td>Comedy|Romance</td>\n",
       "    </tr>\n",
       "    <tr>\n",
       "      <th>7</th>\n",
       "      <td>8</td>\n",
       "      <td>Tom and Huck (1995)</td>\n",
       "      <td>Adventure|Children</td>\n",
       "    </tr>\n",
       "    <tr>\n",
       "      <th>8</th>\n",
       "      <td>9</td>\n",
       "      <td>Sudden Death (1995)</td>\n",
       "      <td>Action</td>\n",
       "    </tr>\n",
       "    <tr>\n",
       "      <th>9</th>\n",
       "      <td>10</td>\n",
       "      <td>GoldenEye (1995)</td>\n",
       "      <td>Action|Adventure|Thriller</td>\n",
       "    </tr>\n",
       "  </tbody>\n",
       "</table>\n",
       "</div>"
      ],
      "text/plain": [
       "   movieId                               title  \\\n",
       "0        1                    Toy Story (1995)   \n",
       "1        2                      Jumanji (1995)   \n",
       "2        3             Grumpier Old Men (1995)   \n",
       "3        4            Waiting to Exhale (1995)   \n",
       "4        5  Father of the Bride Part II (1995)   \n",
       "5        6                         Heat (1995)   \n",
       "6        7                      Sabrina (1995)   \n",
       "7        8                 Tom and Huck (1995)   \n",
       "8        9                 Sudden Death (1995)   \n",
       "9       10                    GoldenEye (1995)   \n",
       "\n",
       "                                        genres  \n",
       "0  Adventure|Animation|Children|Comedy|Fantasy  \n",
       "1                   Adventure|Children|Fantasy  \n",
       "2                               Comedy|Romance  \n",
       "3                         Comedy|Drama|Romance  \n",
       "4                                       Comedy  \n",
       "5                        Action|Crime|Thriller  \n",
       "6                               Comedy|Romance  \n",
       "7                           Adventure|Children  \n",
       "8                                       Action  \n",
       "9                    Action|Adventure|Thriller  "
      ]
     },
     "execution_count": 132,
     "metadata": {},
     "output_type": "execute_result"
    }
   ],
   "source": [
    "df_filmes_todos.head(10)"
   ]
  },
  {
   "cell_type": "markdown",
   "metadata": {},
   "source": [
    "# Renomear as colunas do data set"
   ]
  },
  {
   "cell_type": "code",
   "execution_count": 133,
   "metadata": {},
   "outputs": [
    {
     "data": {
      "text/html": [
       "<div>\n",
       "<style scoped>\n",
       "    .dataframe tbody tr th:only-of-type {\n",
       "        vertical-align: middle;\n",
       "    }\n",
       "\n",
       "    .dataframe tbody tr th {\n",
       "        vertical-align: top;\n",
       "    }\n",
       "\n",
       "    .dataframe thead th {\n",
       "        text-align: right;\n",
       "    }\n",
       "</style>\n",
       "<table border=\"1\" class=\"dataframe\">\n",
       "  <thead>\n",
       "    <tr style=\"text-align: right;\">\n",
       "      <th></th>\n",
       "      <th>filme_id</th>\n",
       "      <th>titulo</th>\n",
       "      <th>genero</th>\n",
       "    </tr>\n",
       "  </thead>\n",
       "  <tbody>\n",
       "    <tr>\n",
       "      <th>0</th>\n",
       "      <td>1</td>\n",
       "      <td>Toy Story (1995)</td>\n",
       "      <td>Adventure|Animation|Children|Comedy|Fantasy</td>\n",
       "    </tr>\n",
       "    <tr>\n",
       "      <th>1</th>\n",
       "      <td>2</td>\n",
       "      <td>Jumanji (1995)</td>\n",
       "      <td>Adventure|Children|Fantasy</td>\n",
       "    </tr>\n",
       "    <tr>\n",
       "      <th>2</th>\n",
       "      <td>3</td>\n",
       "      <td>Grumpier Old Men (1995)</td>\n",
       "      <td>Comedy|Romance</td>\n",
       "    </tr>\n",
       "    <tr>\n",
       "      <th>3</th>\n",
       "      <td>4</td>\n",
       "      <td>Waiting to Exhale (1995)</td>\n",
       "      <td>Comedy|Drama|Romance</td>\n",
       "    </tr>\n",
       "    <tr>\n",
       "      <th>4</th>\n",
       "      <td>5</td>\n",
       "      <td>Father of the Bride Part II (1995)</td>\n",
       "      <td>Comedy</td>\n",
       "    </tr>\n",
       "  </tbody>\n",
       "</table>\n",
       "</div>"
      ],
      "text/plain": [
       "   filme_id                              titulo  \\\n",
       "0         1                    Toy Story (1995)   \n",
       "1         2                      Jumanji (1995)   \n",
       "2         3             Grumpier Old Men (1995)   \n",
       "3         4            Waiting to Exhale (1995)   \n",
       "4         5  Father of the Bride Part II (1995)   \n",
       "\n",
       "                                        genero  \n",
       "0  Adventure|Animation|Children|Comedy|Fantasy  \n",
       "1                   Adventure|Children|Fantasy  \n",
       "2                               Comedy|Romance  \n",
       "3                         Comedy|Drama|Romance  \n",
       "4                                       Comedy  "
      ]
     },
     "execution_count": 133,
     "metadata": {},
     "output_type": "execute_result"
    }
   ],
   "source": [
    "df_filmes_todos.columns = ['filme_id','titulo','genero']\n",
    "df_filmes_todos.head()"
   ]
  },
  {
   "cell_type": "markdown",
   "metadata": {},
   "source": [
    "# Fazer uma pesquisa de filme especifico QUERY"
   ]
  },
  {
   "cell_type": "code",
   "execution_count": 134,
   "metadata": {},
   "outputs": [
    {
     "data": {
      "text/html": [
       "<div>\n",
       "<style scoped>\n",
       "    .dataframe tbody tr th:only-of-type {\n",
       "        vertical-align: middle;\n",
       "    }\n",
       "\n",
       "    .dataframe tbody tr th {\n",
       "        vertical-align: top;\n",
       "    }\n",
       "\n",
       "    .dataframe thead th {\n",
       "        text-align: right;\n",
       "    }\n",
       "</style>\n",
       "<table border=\"1\" class=\"dataframe\">\n",
       "  <thead>\n",
       "    <tr style=\"text-align: right;\">\n",
       "      <th></th>\n",
       "      <th>filme_id</th>\n",
       "      <th>titulo</th>\n",
       "      <th>genero</th>\n",
       "    </tr>\n",
       "  </thead>\n",
       "  <tbody>\n",
       "    <tr>\n",
       "      <th>4</th>\n",
       "      <td>5</td>\n",
       "      <td>Father of the Bride Part II (1995)</td>\n",
       "      <td>Comedy</td>\n",
       "    </tr>\n",
       "  </tbody>\n",
       "</table>\n",
       "</div>"
      ],
      "text/plain": [
       "   filme_id                              titulo  genero\n",
       "4         5  Father of the Bride Part II (1995)  Comedy"
      ]
     },
     "execution_count": 134,
     "metadata": {},
     "output_type": "execute_result"
    }
   ],
   "source": [
    "df_filmes_todos.query(\"filme_id == 5 \")"
   ]
  },
  {
   "cell_type": "code",
   "execution_count": 135,
   "metadata": {},
   "outputs": [
    {
     "data": {
      "text/plain": [
       "0        4.0\n",
       "516      4.0\n",
       "874      4.5\n",
       "1434     2.5\n",
       "1667     4.5\n",
       "        ... \n",
       "97364    2.5\n",
       "98479    4.0\n",
       "98666    2.5\n",
       "99497    3.0\n",
       "99534    5.0\n",
       "Name: avaliacao, Length: 215, dtype: float64"
      ]
     },
     "execution_count": 135,
     "metadata": {},
     "output_type": "execute_result"
    }
   ],
   "source": [
    "df_filmes.query(\"filme_id == 1 \").avaliacao"
   ]
  },
  {
   "cell_type": "markdown",
   "metadata": {},
   "source": [
    "# Medias por filme "
   ]
  },
  {
   "cell_type": "code",
   "execution_count": 136,
   "metadata": {},
   "outputs": [],
   "source": [
    "import pandas as pd\n",
    "pesquisa =pd.read_csv(\"dataset/pesquisaaulaestatistica.csv\")"
   ]
  },
  {
   "cell_type": "code",
   "execution_count": 137,
   "metadata": {},
   "outputs": [
    {
     "data": {
      "text/html": [
       "<div>\n",
       "<style scoped>\n",
       "    .dataframe tbody tr th:only-of-type {\n",
       "        vertical-align: middle;\n",
       "    }\n",
       "\n",
       "    .dataframe tbody tr th {\n",
       "        vertical-align: top;\n",
       "    }\n",
       "\n",
       "    .dataframe thead th {\n",
       "        text-align: right;\n",
       "    }\n",
       "</style>\n",
       "<table border=\"1\" class=\"dataframe\">\n",
       "  <thead>\n",
       "    <tr style=\"text-align: right;\">\n",
       "      <th></th>\n",
       "      <th>Carimbo de data/hora</th>\n",
       "      <th>Endereço de e-mail</th>\n",
       "      <th>Pontuação</th>\n",
       "      <th>Responda qual a sua compreensão</th>\n",
       "      <th>Quais tópicos de estatística você acha mais desafiadores</th>\n",
       "      <th>Como você se sente em relação ao estudo de estatística</th>\n",
       "    </tr>\n",
       "  </thead>\n",
       "  <tbody>\n",
       "    <tr>\n",
       "      <th>0</th>\n",
       "      <td>20/08/2024 16:24:25</td>\n",
       "      <td>neutrin.fullstack@gmail.com</td>\n",
       "      <td>0 / 1</td>\n",
       "      <td>regular</td>\n",
       "      <td>população</td>\n",
       "      <td>entusiasmado</td>\n",
       "    </tr>\n",
       "    <tr>\n",
       "      <th>1</th>\n",
       "      <td>20/08/2024 17:00:24</td>\n",
       "      <td>henriqueserafin7@gmail.com</td>\n",
       "      <td>0 / 1</td>\n",
       "      <td>boa</td>\n",
       "      <td>quartis</td>\n",
       "      <td>entusiasmado</td>\n",
       "    </tr>\n",
       "    <tr>\n",
       "      <th>2</th>\n",
       "      <td>20/08/2024 17:00:26</td>\n",
       "      <td>jpguiotti@gmail.com</td>\n",
       "      <td>0 / 1</td>\n",
       "      <td>boa</td>\n",
       "      <td>população</td>\n",
       "      <td>tenho interesse</td>\n",
       "    </tr>\n",
       "    <tr>\n",
       "      <th>3</th>\n",
       "      <td>20/08/2024 17:01:02</td>\n",
       "      <td>thi.henriquemaia@gmail.com</td>\n",
       "      <td>0 / 1</td>\n",
       "      <td>regular</td>\n",
       "      <td>quartis</td>\n",
       "      <td>tenho interesse</td>\n",
       "    </tr>\n",
       "    <tr>\n",
       "      <th>4</th>\n",
       "      <td>20/08/2024 17:01:18</td>\n",
       "      <td>eulete.souza@df.estudante.senai.br</td>\n",
       "      <td>0 / 1</td>\n",
       "      <td>regular</td>\n",
       "      <td>quartis</td>\n",
       "      <td>entusiasmado</td>\n",
       "    </tr>\n",
       "    <tr>\n",
       "      <th>5</th>\n",
       "      <td>20/08/2024 17:01:57</td>\n",
       "      <td>fabriciotaveira176@gmail.com</td>\n",
       "      <td>0 / 1</td>\n",
       "      <td>ótima</td>\n",
       "      <td>quartis</td>\n",
       "      <td>tenho interesse</td>\n",
       "    </tr>\n",
       "    <tr>\n",
       "      <th>6</th>\n",
       "      <td>20/08/2024 17:02:00</td>\n",
       "      <td>dcguidosenai@gmail.com</td>\n",
       "      <td>0 / 1</td>\n",
       "      <td>boa</td>\n",
       "      <td>quartis</td>\n",
       "      <td>tenho interesse</td>\n",
       "    </tr>\n",
       "    <tr>\n",
       "      <th>7</th>\n",
       "      <td>20/08/2024 17:02:00</td>\n",
       "      <td>valleriam@gmail.com</td>\n",
       "      <td>0 / 1</td>\n",
       "      <td>regular</td>\n",
       "      <td>média</td>\n",
       "      <td>tenho interesse</td>\n",
       "    </tr>\n",
       "    <tr>\n",
       "      <th>8</th>\n",
       "      <td>20/08/2024 17:02:32</td>\n",
       "      <td>andrerodriguesfeitosa9@gmail.com</td>\n",
       "      <td>0 / 1</td>\n",
       "      <td>boa</td>\n",
       "      <td>amostra</td>\n",
       "      <td>tenho interesse</td>\n",
       "    </tr>\n",
       "    <tr>\n",
       "      <th>9</th>\n",
       "      <td>20/08/2024 17:02:51</td>\n",
       "      <td>engribeiro2017@gmail.com</td>\n",
       "      <td>0 / 1</td>\n",
       "      <td>ótima</td>\n",
       "      <td>população</td>\n",
       "      <td>entusiasmado</td>\n",
       "    </tr>\n",
       "    <tr>\n",
       "      <th>10</th>\n",
       "      <td>20/08/2024 17:02:53</td>\n",
       "      <td>jessicaportessantos@gmail.com</td>\n",
       "      <td>0 / 1</td>\n",
       "      <td>regular</td>\n",
       "      <td>quartis</td>\n",
       "      <td>tenho interesse</td>\n",
       "    </tr>\n",
       "    <tr>\n",
       "      <th>11</th>\n",
       "      <td>20/08/2024 17:02:56</td>\n",
       "      <td>julianarochaximenes@gmail.com</td>\n",
       "      <td>0 / 1</td>\n",
       "      <td>boa</td>\n",
       "      <td>quartis</td>\n",
       "      <td>ok</td>\n",
       "    </tr>\n",
       "    <tr>\n",
       "      <th>12</th>\n",
       "      <td>20/08/2024 17:03:32</td>\n",
       "      <td>escola.saga.caio@gmail.com</td>\n",
       "      <td>0 / 1</td>\n",
       "      <td>boa</td>\n",
       "      <td>quartis</td>\n",
       "      <td>ok</td>\n",
       "    </tr>\n",
       "    <tr>\n",
       "      <th>13</th>\n",
       "      <td>20/08/2024 17:04:13</td>\n",
       "      <td>lafaietepedro3@gmail.com</td>\n",
       "      <td>0 / 1</td>\n",
       "      <td>boa</td>\n",
       "      <td>quartis</td>\n",
       "      <td>ok</td>\n",
       "    </tr>\n",
       "    <tr>\n",
       "      <th>14</th>\n",
       "      <td>20/08/2024 17:05:14</td>\n",
       "      <td>palmeiravictor53@gmail.com</td>\n",
       "      <td>0 / 1</td>\n",
       "      <td>boa</td>\n",
       "      <td>média</td>\n",
       "      <td>entusiasmado</td>\n",
       "    </tr>\n",
       "    <tr>\n",
       "      <th>15</th>\n",
       "      <td>20/08/2024 17:10:31</td>\n",
       "      <td>pjeronimo842@gmail.com</td>\n",
       "      <td>0 / 1</td>\n",
       "      <td>regular</td>\n",
       "      <td>média</td>\n",
       "      <td>tenho interesse</td>\n",
       "    </tr>\n",
       "    <tr>\n",
       "      <th>16</th>\n",
       "      <td>20/08/2024 17:11:37</td>\n",
       "      <td>leandrosousajesus@gmail.com</td>\n",
       "      <td>0 / 1</td>\n",
       "      <td>boa</td>\n",
       "      <td>população</td>\n",
       "      <td>entusiasmado</td>\n",
       "    </tr>\n",
       "  </tbody>\n",
       "</table>\n",
       "</div>"
      ],
      "text/plain": [
       "   Carimbo de data/hora                  Endereço de e-mail Pontuação  \\\n",
       "0   20/08/2024 16:24:25         neutrin.fullstack@gmail.com     0 / 1   \n",
       "1   20/08/2024 17:00:24          henriqueserafin7@gmail.com     0 / 1   \n",
       "2   20/08/2024 17:00:26                 jpguiotti@gmail.com     0 / 1   \n",
       "3   20/08/2024 17:01:02          thi.henriquemaia@gmail.com     0 / 1   \n",
       "4   20/08/2024 17:01:18  eulete.souza@df.estudante.senai.br     0 / 1   \n",
       "5   20/08/2024 17:01:57        fabriciotaveira176@gmail.com     0 / 1   \n",
       "6   20/08/2024 17:02:00              dcguidosenai@gmail.com     0 / 1   \n",
       "7   20/08/2024 17:02:00                 valleriam@gmail.com     0 / 1   \n",
       "8   20/08/2024 17:02:32    andrerodriguesfeitosa9@gmail.com     0 / 1   \n",
       "9   20/08/2024 17:02:51            engribeiro2017@gmail.com     0 / 1   \n",
       "10  20/08/2024 17:02:53       jessicaportessantos@gmail.com     0 / 1   \n",
       "11  20/08/2024 17:02:56       julianarochaximenes@gmail.com     0 / 1   \n",
       "12  20/08/2024 17:03:32          escola.saga.caio@gmail.com     0 / 1   \n",
       "13  20/08/2024 17:04:13            lafaietepedro3@gmail.com     0 / 1   \n",
       "14  20/08/2024 17:05:14          palmeiravictor53@gmail.com     0 / 1   \n",
       "15  20/08/2024 17:10:31              pjeronimo842@gmail.com     0 / 1   \n",
       "16  20/08/2024 17:11:37         leandrosousajesus@gmail.com     0 / 1   \n",
       "\n",
       "   Responda qual a sua compreensão  \\\n",
       "0                          regular   \n",
       "1                              boa   \n",
       "2                              boa   \n",
       "3                          regular   \n",
       "4                          regular   \n",
       "5                            ótima   \n",
       "6                              boa   \n",
       "7                          regular   \n",
       "8                              boa   \n",
       "9                            ótima   \n",
       "10                         regular   \n",
       "11                             boa   \n",
       "12                             boa   \n",
       "13                             boa   \n",
       "14                             boa   \n",
       "15                         regular   \n",
       "16                             boa   \n",
       "\n",
       "   Quais tópicos de estatística você acha mais desafiadores  \\\n",
       "0                                           população         \n",
       "1                                             quartis         \n",
       "2                                           população         \n",
       "3                                             quartis         \n",
       "4                                             quartis         \n",
       "5                                             quartis         \n",
       "6                                             quartis         \n",
       "7                                               média         \n",
       "8                                             amostra         \n",
       "9                                           população         \n",
       "10                                            quartis         \n",
       "11                                            quartis         \n",
       "12                                            quartis         \n",
       "13                                            quartis         \n",
       "14                                              média         \n",
       "15                                              média         \n",
       "16                                          população         \n",
       "\n",
       "   Como você se sente em relação ao estudo de estatística  \n",
       "0                                        entusiasmado      \n",
       "1                                        entusiasmado      \n",
       "2                                     tenho interesse      \n",
       "3                                     tenho interesse      \n",
       "4                                        entusiasmado      \n",
       "5                                     tenho interesse      \n",
       "6                                     tenho interesse      \n",
       "7                                     tenho interesse      \n",
       "8                                     tenho interesse      \n",
       "9                                        entusiasmado      \n",
       "10                                    tenho interesse      \n",
       "11                                                 ok      \n",
       "12                                                 ok      \n",
       "13                                                 ok      \n",
       "14                                       entusiasmado      \n",
       "15                                    tenho interesse      \n",
       "16                                       entusiasmado      "
      ]
     },
     "execution_count": 137,
     "metadata": {},
     "output_type": "execute_result"
    }
   ],
   "source": [
    "pesquisa"
   ]
  },
  {
   "cell_type": "code",
   "execution_count": 138,
   "metadata": {},
   "outputs": [],
   "source": [
    "pesquisa.columns = [['data_hora','email','pontuacao','compreensao','desafiador','sentimento']]"
   ]
  },
  {
   "cell_type": "code",
   "execution_count": 139,
   "metadata": {},
   "outputs": [
    {
     "data": {
      "text/html": [
       "<div>\n",
       "<style scoped>\n",
       "    .dataframe tbody tr th:only-of-type {\n",
       "        vertical-align: middle;\n",
       "    }\n",
       "\n",
       "    .dataframe tbody tr th {\n",
       "        vertical-align: top;\n",
       "    }\n",
       "\n",
       "    .dataframe thead tr th {\n",
       "        text-align: left;\n",
       "    }\n",
       "</style>\n",
       "<table border=\"1\" class=\"dataframe\">\n",
       "  <thead>\n",
       "    <tr>\n",
       "      <th></th>\n",
       "      <th>data_hora</th>\n",
       "      <th>email</th>\n",
       "      <th>pontuacao</th>\n",
       "      <th>compreensao</th>\n",
       "      <th>desafiador</th>\n",
       "      <th>sentimento</th>\n",
       "    </tr>\n",
       "  </thead>\n",
       "  <tbody>\n",
       "    <tr>\n",
       "      <th>0</th>\n",
       "      <td>20/08/2024 16:24:25</td>\n",
       "      <td>neutrin.fullstack@gmail.com</td>\n",
       "      <td>0 / 1</td>\n",
       "      <td>regular</td>\n",
       "      <td>população</td>\n",
       "      <td>entusiasmado</td>\n",
       "    </tr>\n",
       "    <tr>\n",
       "      <th>1</th>\n",
       "      <td>20/08/2024 17:00:24</td>\n",
       "      <td>henriqueserafin7@gmail.com</td>\n",
       "      <td>0 / 1</td>\n",
       "      <td>boa</td>\n",
       "      <td>quartis</td>\n",
       "      <td>entusiasmado</td>\n",
       "    </tr>\n",
       "    <tr>\n",
       "      <th>2</th>\n",
       "      <td>20/08/2024 17:00:26</td>\n",
       "      <td>jpguiotti@gmail.com</td>\n",
       "      <td>0 / 1</td>\n",
       "      <td>boa</td>\n",
       "      <td>população</td>\n",
       "      <td>tenho interesse</td>\n",
       "    </tr>\n",
       "    <tr>\n",
       "      <th>3</th>\n",
       "      <td>20/08/2024 17:01:02</td>\n",
       "      <td>thi.henriquemaia@gmail.com</td>\n",
       "      <td>0 / 1</td>\n",
       "      <td>regular</td>\n",
       "      <td>quartis</td>\n",
       "      <td>tenho interesse</td>\n",
       "    </tr>\n",
       "    <tr>\n",
       "      <th>4</th>\n",
       "      <td>20/08/2024 17:01:18</td>\n",
       "      <td>eulete.souza@df.estudante.senai.br</td>\n",
       "      <td>0 / 1</td>\n",
       "      <td>regular</td>\n",
       "      <td>quartis</td>\n",
       "      <td>entusiasmado</td>\n",
       "    </tr>\n",
       "    <tr>\n",
       "      <th>5</th>\n",
       "      <td>20/08/2024 17:01:57</td>\n",
       "      <td>fabriciotaveira176@gmail.com</td>\n",
       "      <td>0 / 1</td>\n",
       "      <td>ótima</td>\n",
       "      <td>quartis</td>\n",
       "      <td>tenho interesse</td>\n",
       "    </tr>\n",
       "    <tr>\n",
       "      <th>6</th>\n",
       "      <td>20/08/2024 17:02:00</td>\n",
       "      <td>dcguidosenai@gmail.com</td>\n",
       "      <td>0 / 1</td>\n",
       "      <td>boa</td>\n",
       "      <td>quartis</td>\n",
       "      <td>tenho interesse</td>\n",
       "    </tr>\n",
       "    <tr>\n",
       "      <th>7</th>\n",
       "      <td>20/08/2024 17:02:00</td>\n",
       "      <td>valleriam@gmail.com</td>\n",
       "      <td>0 / 1</td>\n",
       "      <td>regular</td>\n",
       "      <td>média</td>\n",
       "      <td>tenho interesse</td>\n",
       "    </tr>\n",
       "    <tr>\n",
       "      <th>8</th>\n",
       "      <td>20/08/2024 17:02:32</td>\n",
       "      <td>andrerodriguesfeitosa9@gmail.com</td>\n",
       "      <td>0 / 1</td>\n",
       "      <td>boa</td>\n",
       "      <td>amostra</td>\n",
       "      <td>tenho interesse</td>\n",
       "    </tr>\n",
       "    <tr>\n",
       "      <th>9</th>\n",
       "      <td>20/08/2024 17:02:51</td>\n",
       "      <td>engribeiro2017@gmail.com</td>\n",
       "      <td>0 / 1</td>\n",
       "      <td>ótima</td>\n",
       "      <td>população</td>\n",
       "      <td>entusiasmado</td>\n",
       "    </tr>\n",
       "    <tr>\n",
       "      <th>10</th>\n",
       "      <td>20/08/2024 17:02:53</td>\n",
       "      <td>jessicaportessantos@gmail.com</td>\n",
       "      <td>0 / 1</td>\n",
       "      <td>regular</td>\n",
       "      <td>quartis</td>\n",
       "      <td>tenho interesse</td>\n",
       "    </tr>\n",
       "    <tr>\n",
       "      <th>11</th>\n",
       "      <td>20/08/2024 17:02:56</td>\n",
       "      <td>julianarochaximenes@gmail.com</td>\n",
       "      <td>0 / 1</td>\n",
       "      <td>boa</td>\n",
       "      <td>quartis</td>\n",
       "      <td>ok</td>\n",
       "    </tr>\n",
       "    <tr>\n",
       "      <th>12</th>\n",
       "      <td>20/08/2024 17:03:32</td>\n",
       "      <td>escola.saga.caio@gmail.com</td>\n",
       "      <td>0 / 1</td>\n",
       "      <td>boa</td>\n",
       "      <td>quartis</td>\n",
       "      <td>ok</td>\n",
       "    </tr>\n",
       "    <tr>\n",
       "      <th>13</th>\n",
       "      <td>20/08/2024 17:04:13</td>\n",
       "      <td>lafaietepedro3@gmail.com</td>\n",
       "      <td>0 / 1</td>\n",
       "      <td>boa</td>\n",
       "      <td>quartis</td>\n",
       "      <td>ok</td>\n",
       "    </tr>\n",
       "    <tr>\n",
       "      <th>14</th>\n",
       "      <td>20/08/2024 17:05:14</td>\n",
       "      <td>palmeiravictor53@gmail.com</td>\n",
       "      <td>0 / 1</td>\n",
       "      <td>boa</td>\n",
       "      <td>média</td>\n",
       "      <td>entusiasmado</td>\n",
       "    </tr>\n",
       "    <tr>\n",
       "      <th>15</th>\n",
       "      <td>20/08/2024 17:10:31</td>\n",
       "      <td>pjeronimo842@gmail.com</td>\n",
       "      <td>0 / 1</td>\n",
       "      <td>regular</td>\n",
       "      <td>média</td>\n",
       "      <td>tenho interesse</td>\n",
       "    </tr>\n",
       "    <tr>\n",
       "      <th>16</th>\n",
       "      <td>20/08/2024 17:11:37</td>\n",
       "      <td>leandrosousajesus@gmail.com</td>\n",
       "      <td>0 / 1</td>\n",
       "      <td>boa</td>\n",
       "      <td>população</td>\n",
       "      <td>entusiasmado</td>\n",
       "    </tr>\n",
       "  </tbody>\n",
       "</table>\n",
       "</div>"
      ],
      "text/plain": [
       "              data_hora                               email pontuacao  \\\n",
       "0   20/08/2024 16:24:25         neutrin.fullstack@gmail.com     0 / 1   \n",
       "1   20/08/2024 17:00:24          henriqueserafin7@gmail.com     0 / 1   \n",
       "2   20/08/2024 17:00:26                 jpguiotti@gmail.com     0 / 1   \n",
       "3   20/08/2024 17:01:02          thi.henriquemaia@gmail.com     0 / 1   \n",
       "4   20/08/2024 17:01:18  eulete.souza@df.estudante.senai.br     0 / 1   \n",
       "5   20/08/2024 17:01:57        fabriciotaveira176@gmail.com     0 / 1   \n",
       "6   20/08/2024 17:02:00              dcguidosenai@gmail.com     0 / 1   \n",
       "7   20/08/2024 17:02:00                 valleriam@gmail.com     0 / 1   \n",
       "8   20/08/2024 17:02:32    andrerodriguesfeitosa9@gmail.com     0 / 1   \n",
       "9   20/08/2024 17:02:51            engribeiro2017@gmail.com     0 / 1   \n",
       "10  20/08/2024 17:02:53       jessicaportessantos@gmail.com     0 / 1   \n",
       "11  20/08/2024 17:02:56       julianarochaximenes@gmail.com     0 / 1   \n",
       "12  20/08/2024 17:03:32          escola.saga.caio@gmail.com     0 / 1   \n",
       "13  20/08/2024 17:04:13            lafaietepedro3@gmail.com     0 / 1   \n",
       "14  20/08/2024 17:05:14          palmeiravictor53@gmail.com     0 / 1   \n",
       "15  20/08/2024 17:10:31              pjeronimo842@gmail.com     0 / 1   \n",
       "16  20/08/2024 17:11:37         leandrosousajesus@gmail.com     0 / 1   \n",
       "\n",
       "   compreensao desafiador       sentimento  \n",
       "0      regular  população     entusiasmado  \n",
       "1          boa    quartis     entusiasmado  \n",
       "2          boa  população  tenho interesse  \n",
       "3      regular    quartis  tenho interesse  \n",
       "4      regular    quartis     entusiasmado  \n",
       "5        ótima    quartis  tenho interesse  \n",
       "6          boa    quartis  tenho interesse  \n",
       "7      regular      média  tenho interesse  \n",
       "8          boa    amostra  tenho interesse  \n",
       "9        ótima  população     entusiasmado  \n",
       "10     regular    quartis  tenho interesse  \n",
       "11         boa    quartis               ok  \n",
       "12         boa    quartis               ok  \n",
       "13         boa    quartis               ok  \n",
       "14         boa      média     entusiasmado  \n",
       "15     regular      média  tenho interesse  \n",
       "16         boa  população     entusiasmado  "
      ]
     },
     "execution_count": 139,
     "metadata": {},
     "output_type": "execute_result"
    }
   ],
   "source": [
    "pesquisa"
   ]
  },
  {
   "cell_type": "code",
   "execution_count": 140,
   "metadata": {},
   "outputs": [
    {
     "data": {
      "text/plain": [
       "(compreensao,)\n",
       "boa        9\n",
       "regular    6\n",
       "ótima      2\n",
       "Name: count, dtype: int64"
      ]
     },
     "execution_count": 140,
     "metadata": {},
     "output_type": "execute_result"
    }
   ],
   "source": [
    "pesquisa['compreensao',].value_counts()"
   ]
  },
  {
   "cell_type": "code",
   "execution_count": 141,
   "metadata": {},
   "outputs": [
    {
     "data": {
      "text/plain": [
       "(sentimento,)  \n",
       "tenho interesse    8\n",
       "entusiasmado       6\n",
       "ok                 3\n",
       "Name: count, dtype: int64"
      ]
     },
     "execution_count": 141,
     "metadata": {},
     "output_type": "execute_result"
    }
   ],
   "source": [
    "pesquisa['sentimento'].value_counts()"
   ]
  },
  {
   "cell_type": "code",
   "execution_count": 142,
   "metadata": {},
   "outputs": [
    {
     "data": {
      "text/html": [
       "<div>\n",
       "<style scoped>\n",
       "    .dataframe tbody tr th:only-of-type {\n",
       "        vertical-align: middle;\n",
       "    }\n",
       "\n",
       "    .dataframe tbody tr th {\n",
       "        vertical-align: top;\n",
       "    }\n",
       "\n",
       "    .dataframe thead th {\n",
       "        text-align: right;\n",
       "    }\n",
       "</style>\n",
       "<table border=\"1\" class=\"dataframe\">\n",
       "  <thead>\n",
       "    <tr style=\"text-align: right;\">\n",
       "      <th></th>\n",
       "      <th>usuario_id</th>\n",
       "      <th>filme_id</th>\n",
       "      <th>avaliacao</th>\n",
       "      <th>quando</th>\n",
       "    </tr>\n",
       "  </thead>\n",
       "  <tbody>\n",
       "    <tr>\n",
       "      <th>0</th>\n",
       "      <td>1</td>\n",
       "      <td>1</td>\n",
       "      <td>4.0</td>\n",
       "      <td>964982703</td>\n",
       "    </tr>\n",
       "    <tr>\n",
       "      <th>1</th>\n",
       "      <td>1</td>\n",
       "      <td>3</td>\n",
       "      <td>4.0</td>\n",
       "      <td>964981247</td>\n",
       "    </tr>\n",
       "    <tr>\n",
       "      <th>2</th>\n",
       "      <td>1</td>\n",
       "      <td>6</td>\n",
       "      <td>4.0</td>\n",
       "      <td>964982224</td>\n",
       "    </tr>\n",
       "    <tr>\n",
       "      <th>3</th>\n",
       "      <td>1</td>\n",
       "      <td>47</td>\n",
       "      <td>5.0</td>\n",
       "      <td>964983815</td>\n",
       "    </tr>\n",
       "    <tr>\n",
       "      <th>4</th>\n",
       "      <td>1</td>\n",
       "      <td>50</td>\n",
       "      <td>5.0</td>\n",
       "      <td>964982931</td>\n",
       "    </tr>\n",
       "    <tr>\n",
       "      <th>...</th>\n",
       "      <td>...</td>\n",
       "      <td>...</td>\n",
       "      <td>...</td>\n",
       "      <td>...</td>\n",
       "    </tr>\n",
       "    <tr>\n",
       "      <th>100831</th>\n",
       "      <td>610</td>\n",
       "      <td>166534</td>\n",
       "      <td>4.0</td>\n",
       "      <td>1493848402</td>\n",
       "    </tr>\n",
       "    <tr>\n",
       "      <th>100832</th>\n",
       "      <td>610</td>\n",
       "      <td>168248</td>\n",
       "      <td>5.0</td>\n",
       "      <td>1493850091</td>\n",
       "    </tr>\n",
       "    <tr>\n",
       "      <th>100833</th>\n",
       "      <td>610</td>\n",
       "      <td>168250</td>\n",
       "      <td>5.0</td>\n",
       "      <td>1494273047</td>\n",
       "    </tr>\n",
       "    <tr>\n",
       "      <th>100834</th>\n",
       "      <td>610</td>\n",
       "      <td>168252</td>\n",
       "      <td>5.0</td>\n",
       "      <td>1493846352</td>\n",
       "    </tr>\n",
       "    <tr>\n",
       "      <th>100835</th>\n",
       "      <td>610</td>\n",
       "      <td>170875</td>\n",
       "      <td>3.0</td>\n",
       "      <td>1493846415</td>\n",
       "    </tr>\n",
       "  </tbody>\n",
       "</table>\n",
       "<p>100836 rows × 4 columns</p>\n",
       "</div>"
      ],
      "text/plain": [
       "        usuario_id  filme_id  avaliacao      quando\n",
       "0                1         1        4.0   964982703\n",
       "1                1         3        4.0   964981247\n",
       "2                1         6        4.0   964982224\n",
       "3                1        47        5.0   964983815\n",
       "4                1        50        5.0   964982931\n",
       "...            ...       ...        ...         ...\n",
       "100831         610    166534        4.0  1493848402\n",
       "100832         610    168248        5.0  1493850091\n",
       "100833         610    168250        5.0  1494273047\n",
       "100834         610    168252        5.0  1493846352\n",
       "100835         610    170875        3.0  1493846415\n",
       "\n",
       "[100836 rows x 4 columns]"
      ]
     },
     "execution_count": 142,
     "metadata": {},
     "output_type": "execute_result"
    }
   ],
   "source": [
    "df_filmes"
   ]
  },
  {
   "cell_type": "markdown",
   "metadata": {},
   "source": [
    "### Pegue um grafico  calcule a media da coluna avaliação  e crie um boxplot,seborn, .\n"
   ]
  }
 ],
 "metadata": {
  "kernelspec": {
   "display_name": ".venv",
   "language": "python",
   "name": "python3"
  },
  "language_info": {
   "codemirror_mode": {
    "name": "ipython",
    "version": 3
   },
   "file_extension": ".py",
   "mimetype": "text/x-python",
   "name": "python",
   "nbconvert_exporter": "python",
   "pygments_lexer": "ipython3",
   "version": "3.12.5"
  }
 },
 "nbformat": 4,
 "nbformat_minor": 2
}
